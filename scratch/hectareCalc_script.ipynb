{
 "cells": [
  {
   "cell_type": "code",
   "execution_count": null,
   "id": "bf20351b",
   "metadata": {},
   "outputs": [],
   "source": [
    "import rasterio\n",
    "import os\n",
    "\n",
    "# Path to the .tif file\n",
    "tif_path = r\"C:\\Users\\nouel\\OneDrive\\Desktop\\HWF030041411i.tif\"\n",
    "\n",
    "# Ensure the file exists\n",
    "if not os.path.isfile(tif_path):\n",
    "    raise FileNotFoundError(f\"TIF file not found at: {tif_path}\")\n",
    "\n",
    "# Open the raster file\n",
    "with rasterio.open(tif_path) as src:\n",
    "    pixel_width, pixel_height = src.res\n",
    "    width, height = src.width, src.height\n",
    "    crs = src.crs\n",
    "\n",
    "    # Calculate area in square meters\n",
    "    area_m2 = abs(pixel_width * pixel_height * width * height)\n",
    "    # Convert to hectares\n",
    "    area_ha = area_m2 / 10_000\n",
    "\n",
    "    # Output the result\n",
    "    print(f\"CRS: {crs}\")\n",
    "    print(f\"Pixel size: {pixel_width} x {pixel_height} meters\")\n",
    "    print(f\"Raster size: {width} x {height} pixels\")\n",
    "    print(f\"Scanned Area: {area_ha:,.2f} hectares\")\n"
   ]
  },
  {
   "cell_type": "code",
   "execution_count": null,
   "id": "ce0fd051",
   "metadata": {},
   "outputs": [],
   "source": [
    "import rasterio\n",
    "import numpy as np\n",
    "import os\n",
    "\n",
    "# Path to your .tif file\n",
    "tif_path = r\"C:\\Users\\nouel\\OneDrive\\Desktop\\HWF030041411i.tif\"\n",
    "\n",
    "# Ensure file exists\n",
    "if not os.path.isfile(tif_path):\n",
    "    raise FileNotFoundError(f\"File not found: {tif_path}\")\n",
    "\n",
    "# Open raster\n",
    "with rasterio.open(tif_path) as src:\n",
    "    data = src.read(1)  # Read the first band\n",
    "    pixel_size_x, pixel_size_y = src.res\n",
    "    crs = src.crs\n",
    "\n",
    "    # Assume white background = 255\n",
    "    # Create a mask for pixels that are NOT white\n",
    "    scanned_mask = data < 255\n",
    "\n",
    "    # Count non-white pixels\n",
    "    scanned_pixel_count = np.sum(scanned_mask)\n",
    "\n",
    "    # Area of one pixel in m²\n",
    "    pixel_area = abs(pixel_size_x * pixel_size_y)\n",
    "\n",
    "    # Total scanned area\n",
    "    scanned_area_m2 = scanned_pixel_count * pixel_area\n",
    "    scanned_area_ha = scanned_area_m2 / 10_000\n",
    "\n",
    "    # Output\n",
    "    print(f\"CRS: {crs}\")\n",
    "    print(f\"Pixel size: {pixel_size_x} x {pixel_size_y} meters\")\n",
    "    print(f\"Non-white (scanned) pixels: {scanned_pixel_count}\")\n",
    "    print(f\"Scanned Area: {scanned_area_ha:,.2f} hectares\")\n"
   ]
  }
 ],
 "metadata": {
  "kernelspec": {
   "display_name": "Python 3",
   "language": "python",
   "name": "python3"
  },
  "language_info": {
   "codemirror_mode": {
    "name": "ipython",
    "version": 3
   },
   "file_extension": ".py",
   "mimetype": "text/x-python",
   "name": "python",
   "nbconvert_exporter": "python",
   "pygments_lexer": "ipython3",
   "version": "3.12.3"
  }
 },
 "nbformat": 4,
 "nbformat_minor": 5
}
